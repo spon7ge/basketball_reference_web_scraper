{
 "cells": [
  {
   "cell_type": "code",
   "execution_count": 66,
   "metadata": {},
   "outputs": [],
   "source": [
    "import pandas as pd\n",
    "from basketball_reference_web_scraper import client\n",
    "from basketball_reference_web_scraper.data import Location \n",
    "from basketball_reference_web_scraper.data import Team\n",
    "from basketball_reference_web_scraper.data import Outcome \n",
    "from basketball_reference_web_scraper.data import OutputType \n",
    "from basketball_reference_web_scraper.data import OutputWriteOption \n",
    "from basketball_reference_web_scraper.data import Position\n",
    "import time\n",
    "from datetime import datetime, timedelta\n",
    "import os"
   ]
  },
  {
   "cell_type": "code",
   "execution_count": 83,
   "metadata": {},
   "outputs": [
    {
     "ename": "KeyboardInterrupt",
     "evalue": "",
     "output_type": "error",
     "traceback": [
      "\u001b[1;31m---------------------------------------------------------------------------\u001b[0m",
      "\u001b[1;31mKeyboardInterrupt\u001b[0m                         Traceback (most recent call last)",
      "Cell \u001b[1;32mIn[83], line 15\u001b[0m\n\u001b[0;32m     12\u001b[0m     \u001b[38;5;28mprint\u001b[39m(\u001b[38;5;124mf\u001b[39m\u001b[38;5;124m\"\u001b[39m\u001b[38;5;124mError fetching data for \u001b[39m\u001b[38;5;132;01m{\u001b[39;00mcurrrent_date\u001b[38;5;132;01m}\u001b[39;00m\u001b[38;5;124m: \u001b[39m\u001b[38;5;132;01m{\u001b[39;00me\u001b[38;5;132;01m}\u001b[39;00m\u001b[38;5;124m\"\u001b[39m)\n\u001b[0;32m     14\u001b[0m currrent_date \u001b[38;5;241m+\u001b[39m\u001b[38;5;241m=\u001b[39m timedelta(days\u001b[38;5;241m=\u001b[39m\u001b[38;5;241m1\u001b[39m)\n\u001b[1;32m---> 15\u001b[0m \u001b[43mtime\u001b[49m\u001b[38;5;241;43m.\u001b[39;49m\u001b[43msleep\u001b[49m\u001b[43m(\u001b[49m\u001b[38;5;241;43m5\u001b[39;49m\u001b[43m)\u001b[49m\n",
      "\u001b[1;31mKeyboardInterrupt\u001b[0m: "
     ]
    }
   ],
   "source": [
    "\n",
    "all_data_2023 = pd.DataFrame()\n",
    "\n",
    "start_date = datetime(2023,10,24)\n",
    "end_date = datetime.now()\n",
    "\n",
    "currrent_date = start_date\n",
    "while currrent_date <= end_date:\n",
    "    try:\n",
    "        df = pd.DataFrame(client.player_box_scores(day=currrent_date.day, month=currrent_date.month,year=currrent_date.year))\n",
    "        all_data_2023 = pd.concat([all_data_2023,df], ignore_index=True)\n",
    "    except Exception as e:\n",
    "        print(f\"Error fetching data for {currrent_date}: {e}\")\n",
    "        \n",
    "    currrent_date += timedelta(days=1)\n",
    "    time.sleep(5)"
   ]
  },
  {
   "cell_type": "code",
   "execution_count": null,
   "metadata": {},
   "outputs": [
    {
     "name": "stdout",
     "output_type": "stream",
     "text": [
      "The DataSet contains 355 columns and 21 rows\n"
     ]
    }
   ],
   "source": [
    "print(f\"The DataSet contains {all_data_2023.shape[0]} columns and {all_data_2023.shape[1]} rows\")"
   ]
  },
  {
   "cell_type": "code",
   "execution_count": 80,
   "metadata": {},
   "outputs": [],
   "source": [
    "def get_players_average_stat(all_data, player_name, stat):\n",
    "    if stat not in all_data.columns:\n",
    "        print(f\"Stat '{stat}' not found in the data.\")\n",
    "        return None\n",
    "    \n",
    "    player_data = all_data[all_data['name'] == player_name]\n",
    "\n",
    "    if player_data.empty:\n",
    "        print(f\"No data found for player: {player_name}\")\n",
    "        return None\n",
    "    \n",
    "    return player_data[stat].mean()\n",
    "\n",
    "def count_above_projected(all_data, player_name, stat, projected_value):\n",
    "    if stat not in all_data.columns:\n",
    "        print(f\"Stat '{stat}' not found in the data. \")\n",
    "        return None\n",
    "    \n",
    "    player_data = all_data[all_data['name'] == player_name]\n",
    "\n",
    "    if player_data.empty:\n",
    "        print(f\"No data found for player: {player_name}\")\n",
    "        \n",
    "    #for loop here\n",
    "    count_exceeds = (player_data[stat] > projected_value).sum() \n",
    "    return count_exceeds\n",
    "\n",
    "times_exceeded = count_above_projected(all_data_2023, 'Stephen Curry', 'made_field_goals', 2)"
   ]
  },
  {
   "cell_type": "code",
   "execution_count": 81,
   "metadata": {},
   "outputs": [
    {
     "data": {
      "text/plain": [
       "1"
      ]
     },
     "execution_count": 81,
     "metadata": {},
     "output_type": "execute_result"
    }
   ],
   "source": [
    "times_exceeded"
   ]
  },
  {
   "cell_type": "code",
   "execution_count": 65,
   "metadata": {},
   "outputs": [
    {
     "data": {
      "text/plain": [
       "Index(['slug', 'name', 'team', 'location', 'opponent', 'outcome',\n",
       "       'seconds_played', 'made_field_goals', 'attempted_field_goals',\n",
       "       'made_three_point_field_goals', 'attempted_three_point_field_goals',\n",
       "       'made_free_throws', 'attempted_free_throws', 'offensive_rebounds',\n",
       "       'defensive_rebounds', 'assists', 'steals', 'blocks', 'turnovers',\n",
       "       'personal_fouls', 'game_score'],\n",
       "      dtype='object')"
      ]
     },
     "execution_count": 65,
     "metadata": {},
     "output_type": "execute_result"
    }
   ],
   "source": [
    "all_data_2023.columns"
   ]
  },
  {
   "cell_type": "code",
   "execution_count": null,
   "metadata": {},
   "outputs": [],
   "source": []
  }
 ],
 "metadata": {
  "kernelspec": {
   "display_name": "Python 3",
   "language": "python",
   "name": "python3"
  },
  "language_info": {
   "codemirror_mode": {
    "name": "ipython",
    "version": 3
   },
   "file_extension": ".py",
   "mimetype": "text/x-python",
   "name": "python",
   "nbconvert_exporter": "python",
   "pygments_lexer": "ipython3",
   "version": "3.12.2"
  }
 },
 "nbformat": 4,
 "nbformat_minor": 2
}
